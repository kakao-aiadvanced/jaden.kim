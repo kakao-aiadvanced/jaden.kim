{
  "nbformat": 4,
  "nbformat_minor": 0,
  "metadata": {
    "colab": {
      "provenance": []
    },
    "kernelspec": {
      "name": "python3",
      "display_name": "Python 3"
    },
    "language_info": {
      "name": "python"
    }
  },
  "cells": [
    {
      "cell_type": "code",
      "execution_count": 5,
      "metadata": {
        "colab": {
          "base_uri": "https://localhost:8080/"
        },
        "id": "CT432MKCS6ZT",
        "outputId": "74312bf5-c3ac-4f55-c855-f2dfc6a60b98"
      },
      "outputs": [
        {
          "output_type": "stream",
          "name": "stdout",
          "text": [
            "Requirement already satisfied: openai in /usr/local/lib/python3.12/dist-packages (1.100.0)\n",
            "Requirement already satisfied: anyio<5,>=3.5.0 in /usr/local/lib/python3.12/dist-packages (from openai) (4.10.0)\n",
            "Requirement already satisfied: distro<2,>=1.7.0 in /usr/local/lib/python3.12/dist-packages (from openai) (1.9.0)\n",
            "Requirement already satisfied: httpx<1,>=0.23.0 in /usr/local/lib/python3.12/dist-packages (from openai) (0.28.1)\n",
            "Requirement already satisfied: jiter<1,>=0.4.0 in /usr/local/lib/python3.12/dist-packages (from openai) (0.10.0)\n",
            "Requirement already satisfied: pydantic<3,>=1.9.0 in /usr/local/lib/python3.12/dist-packages (from openai) (2.11.7)\n",
            "Requirement already satisfied: sniffio in /usr/local/lib/python3.12/dist-packages (from openai) (1.3.1)\n",
            "Requirement already satisfied: tqdm>4 in /usr/local/lib/python3.12/dist-packages (from openai) (4.67.1)\n",
            "Requirement already satisfied: typing-extensions<5,>=4.11 in /usr/local/lib/python3.12/dist-packages (from openai) (4.14.1)\n",
            "Requirement already satisfied: idna>=2.8 in /usr/local/lib/python3.12/dist-packages (from anyio<5,>=3.5.0->openai) (3.10)\n",
            "Requirement already satisfied: certifi in /usr/local/lib/python3.12/dist-packages (from httpx<1,>=0.23.0->openai) (2025.8.3)\n",
            "Requirement already satisfied: httpcore==1.* in /usr/local/lib/python3.12/dist-packages (from httpx<1,>=0.23.0->openai) (1.0.9)\n",
            "Requirement already satisfied: h11>=0.16 in /usr/local/lib/python3.12/dist-packages (from httpcore==1.*->httpx<1,>=0.23.0->openai) (0.16.0)\n",
            "Requirement already satisfied: annotated-types>=0.6.0 in /usr/local/lib/python3.12/dist-packages (from pydantic<3,>=1.9.0->openai) (0.7.0)\n",
            "Requirement already satisfied: pydantic-core==2.33.2 in /usr/local/lib/python3.12/dist-packages (from pydantic<3,>=1.9.0->openai) (2.33.2)\n",
            "Requirement already satisfied: typing-inspection>=0.4.0 in /usr/local/lib/python3.12/dist-packages (from pydantic<3,>=1.9.0->openai) (0.4.1)\n"
          ]
        }
      ],
      "source": [
        "!pip install openai"
      ]
    },
    {
      "cell_type": "code",
      "source": [
        "import getpass\n",
        "import os\n",
        "\n",
        "os.environ['OPENAI_API_KEY'] = getpass.getpass(prompt=\"OpenAI API 키를 입력해주세요 (입력 시 문자 숨김): \")"
      ],
      "metadata": {
        "id": "EzRHQaOuS-eR",
        "colab": {
          "base_uri": "https://localhost:8080/"
        },
        "outputId": "a021ea71-b550-4bbc-aab8-fe9a3ff94419"
      },
      "execution_count": 6,
      "outputs": [
        {
          "name": "stdout",
          "output_type": "stream",
          "text": [
            "OpenAI API 키를 입력해주세요 (입력 시 문자 숨김): ··········\n"
          ]
        }
      ]
    },
    {
      "cell_type": "code",
      "source": [
        "from openai import OpenAI\n",
        "client = OpenAI()\n",
        "\n",
        "completion = client.chat.completions.create(\n",
        "    model=\"gpt-4o-mini\",\n",
        "    messages=[\n",
        "        {\"role\": \"system\", \"content\": \"You are a helpful assistant.\"},\n",
        "        {\n",
        "            \"role\": \"user\",\n",
        "            \"content\": \"What are the tourist attractions in Korea?\"\n",
        "        }\n",
        "    ]\n",
        ")\n",
        "\n",
        "print(completion.choices[0].message)"
      ],
      "metadata": {
        "id": "_A1xpa_UTI9T",
        "colab": {
          "base_uri": "https://localhost:8080/"
        },
        "outputId": "1ff03d92-8ed1-44f5-a1e7-3c6144d48752"
      },
      "execution_count": 9,
      "outputs": [
        {
          "output_type": "stream",
          "name": "stdout",
          "text": [
            "ChatCompletionMessage(content=\"South Korea is a country rich in history, culture, and natural beauty, offering a wide variety of tourist attractions. Here are some notable ones:\\n\\n### Historical and Cultural Sites\\n1. **Gyeongbokgung Palace** (Seoul) - The largest of the Five Grand Palaces built during the Joseon Dynasty, featuring stunning architecture and beautiful gardens.\\n2. **Changdeokgung Palace** (Seoul) - A UNESCO World Heritage site known for its beautiful Secret Garden and traditional architecture.\\n3. **Bukhansan National Park** (Seoul) - A popular mountain park with hiking trails, temples, and stunning views of Seoul.\\n4. **War Memorial of Korea** (Seoul) - A museum that provides extensive information about Korea's military history.\\n5. **DMZ (Demilitarized Zone)** - The border area between North and South Korea, with tours available to learn about its significance.\\n\\n### Natural Attractions\\n6. **Jeju Island** - A volcanic island known for its stunning natural scenery, beautiful beaches, and attractions such as Hallasan Mountain and Seongsan Ilchulbong.\\n7. **Seoraksan National Park** - Famous for its stunning mountain scenery, hiking trails, and the Beomeosa Temple.\\n8. **Nami Island** - Known for its beautiful tree-lined roads and as a romantic getaway, especially famous for its autumn foliage.\\n\\n### Urban Experiences\\n9. **Myeongdong** (Seoul) - A bustling shopping district known for cosmetics, fashion, and street food.\\n10. **Dongdaemun Design Plaza** - A contemporary architectural marvel that hosts fashion shows, exhibitions, and cultural events.\\n11. **Gangnam District** (Seoul) - Known for its upscale shopping, dining, and nightlife.\\n\\n### Cultural Experiences\\n12. **Bukchon Hanok Village** (Seoul) - A preserved area with traditional Korean houses where visitors can experience traditional culture and architecture.\\n13. **Insadong** (Seoul) - A vibrant neighborhood known for its shops selling traditional crafts, art, and tea houses.\\n14. **Hanok Stay** - Experience staying in traditional Korean houses in various locations.\\n\\n### Festivals and Events\\n15. **Cherry Blossom Festivals** - Held in various places, with the most famous being in Jinhae and Yeouido in spring.\\n16. **Gwangju Biennale** - An international contemporary art exhibition held every two years.\\n\\n### Unique Attractions\\n17. **K-pop and Entertainment** - Visit entertainment company studios like SM Town or attend a live K-pop concert or performance.\\n18. **Lotte World and Everland** - Theme parks offering various rides, cultural experiences, and entertainment.\\n\\n### Temples and Shrines\\n19. **Jogyesa Temple** (Seoul) - The chief temple of the Jogye Order of Korean Buddhism.\\n20. **Haeinsa Temple** - A UNESCO World Heritage site housing the Tripitaka Koreana, the world's most complete collection of Buddhist texts.\\n\\nThese attractions represent just a snapshot of what South Korea has to offer. The country is well-known for its hospitality, delicious cuisine, and rich cultural heritage, making it a great destination for travelers.\", refusal=None, role='assistant', annotations=[], audio=None, function_call=None, tool_calls=None)\n"
          ]
        }
      ]
    },
    {
      "cell_type": "code",
      "source": [
        "from openai import OpenAI\n",
        "client = OpenAI()\n",
        "\n",
        "completion = client.chat.completions.create(\n",
        "    model=\"gpt-4o-mini\",\n",
        "    messages=[\n",
        "        {\"role\": \"system\", \"content\": \"You are a helpful assistant.\"},\n",
        "        {\n",
        "            \"role\": \"user\",\n",
        "            \"content\": \"\"\"\n",
        "You are a sentiment classifier for movie reviews.\n",
        "Classify each review as either \"Positive\" or \"Negative\".\n",
        "\n",
        "Review: \"The acting was phenomenal and truly moving.\"\n",
        "Sentiment: Positive\n",
        "\n",
        "Review: \"The plot was predictable and boring.\"\n",
        "Sentiment: Negative\n",
        "\n",
        "Review: \"A masterpiece with breathtaking visuals and a touching story.\"\n",
        "Sentiment: Positive\n",
        "\n",
        "Review: \"The pacing was slow and the dialogue felt unnatural.\"\n",
        "Sentiment: Negative\n",
        "\n",
        "Review: \"An engaging and heartwarming film that exceeded expectations.\"\n",
        "Sentiment: Positive\n",
        "\n",
        "Now classify the following:\n",
        "\n",
        "Review: \"The storyline was dull and uninspiring.\"\n",
        "Sentiment:\n",
        "            \"\"\"\n",
        "        }\n",
        "    ]\n",
        ")\n",
        "\n",
        "print(completion.choices[0].message)"
      ],
      "metadata": {
        "colab": {
          "base_uri": "https://localhost:8080/"
        },
        "id": "0HUWqVl3VUyG",
        "outputId": "2fd9b3e6-6dc9-4737-bc98-2e17c191676c"
      },
      "execution_count": 10,
      "outputs": [
        {
          "output_type": "stream",
          "name": "stdout",
          "text": [
            "ChatCompletionMessage(content='Sentiment: Negative', refusal=None, role='assistant', annotations=[], audio=None, function_call=None, tool_calls=None)\n"
          ]
        }
      ]
    },
    {
      "cell_type": "markdown",
      "source": [
        "Convert the following natural language requests into SQL queries:\n",
        "1. \"Show me all employees with a salary greater than 50,000.\": SELECT * FROM employees WHERE salary > 50000;\n",
        "2. \"List all products that are out of stock.\": SELECT * FROM products WHERE stock = 0;\n",
        "3. \"Get the names of students who scored more than 90 in math.\": SELECT name FROM students WHERE math_score > 90;\n",
        "4. \"Find all orders placed within the last 30 days.\": SELECT * FROM orders WHERE order_date >= DATE_SUB(CURDATE(), INTERVAL 30 DAY);\n",
        "5. \"Count how many customers are in each city.\": SELECT city, COUNT(*) FROM customers GROUP BY city;\n",
        "\n",
        "Request: \"Find the average salary of employees in the marketing department.\"\n",
        "SQL Query:"
      ],
      "metadata": {
        "id": "eLJlfZ2OWKyl"
      }
    },
    {
      "cell_type": "code",
      "source": [
        "from openai import OpenAI\n",
        "client = OpenAI()\n",
        "\n",
        "completion = client.chat.completions.create(\n",
        "    model=\"gpt-4o-mini\",\n",
        "    messages=[\n",
        "        {\"role\": \"system\", \"content\": \"You are a helpful assistant.\"},\n",
        "        {\n",
        "            \"role\": \"user\",\n",
        "            \"content\": \"\"\"\n",
        "Convert the following natural language requests into SQL queries:\n",
        "\n",
        "\"Show me all employees with a salary greater than 50,000.\": SELECT * FROM employees WHERE salary > 50000;\n",
        "\"List all products that are out of stock.\": SELECT * FROM products WHERE stock = 0;\n",
        "\"Get the names of students who scored more than 90 in math.\": SELECT name FROM students WHERE math_score > 90;\n",
        "\"Find all orders placed within the last 30 days.\": SELECT * FROM orders WHERE order_date >= DATE_SUB(CURDATE(), INTERVAL 30 DAY);\n",
        "\"Count how many customers are in each city.\": SELECT city, COUNT(*) FROM customers GROUP BY city;\n",
        "Request: \"Find the average salary of employees in the marketing department.\" SQL Query:\n",
        "            \"\"\"\n",
        "        }\n",
        "    ]\n",
        ")\n",
        "\n",
        "print(completion.choices[0].message)"
      ],
      "metadata": {
        "colab": {
          "base_uri": "https://localhost:8080/"
        },
        "id": "hCAAh-gVWeBc",
        "outputId": "5ad95647-c5fe-4614-ef4e-efc0d49efa31"
      },
      "execution_count": 11,
      "outputs": [
        {
          "output_type": "stream",
          "name": "stdout",
          "text": [
            "ChatCompletionMessage(content=\"To find the average salary of employees in the marketing department, the SQL query would be:\\n\\n```sql\\nSELECT AVG(salary) FROM employees WHERE department = 'marketing';\\n```\", refusal=None, role='assistant', annotations=[], audio=None, function_call=None, tool_calls=None)\n"
          ]
        }
      ]
    },
    {
      "cell_type": "markdown",
      "source": [
        "# Simple - 1\n",
        "Solve the following problem step-by-step: 23 + 47\n",
        "\n",
        "Step-by-step solution:\n",
        "1. 피연산자(23, 47)를 확인하고 각각을 십의 자리와 일의 자리로 분해하라(예: 23=20+3, 47=40+7).\n",
        "2. 일의 자리(3+7)를 더해 결과와 받아올림을 결정하고, 일의 자리 값을 기록하라.\n",
        "3. 십의 자리(20+40)에 2단계의 받아올림이 있다면 더해 십의 자리 값을 기록하라.\n",
        "4. 십의 자리와 일의 자리를 결합해 합계를 계산하고, 추가 설명 없이 ‘Answer: <숫자>’만 출력하라.\n",
        "\n",
        "Answer: 70"
      ],
      "metadata": {
        "id": "oFtFItUBXgqX"
      }
    },
    {
      "cell_type": "code",
      "source": [
        "from openai import OpenAI\n",
        "client = OpenAI()\n",
        "\n",
        "completion = client.chat.completions.create(\n",
        "    model=\"gpt-4o-mini\",\n",
        "    messages=[\n",
        "        {\"role\": \"system\", \"content\": \"You are a helpful assistant.\"},\n",
        "        {\n",
        "            \"role\": \"user\",\n",
        "            \"content\": \"\"\"\n",
        "Solve the following problem step-by-step: 23 + 47\n",
        "\n",
        "Step-by-step solution:\n",
        "\t1.\t“피연산자(23, 47)를 확인하고 각각을 십의 자리와 일의 자리로 분해하라(예: 23=20+3, 47=40+7).”\n",
        "\t2.\t“일의 자리(3+7)를 더해 결과와 받아올림을 결정하고, 일의 자리 값을 기록하라.”\n",
        "\t3.\t“십의 자리(20+40)에 2단계의 받아올림이 있다면 더해 십의 자리 값을 기록하라.”\n",
        "\t4.\t“십의 자리와 일의 자리를 결합해 합계를 계산하고, 추가 설명 없이 ‘Answer: <숫자>’만 출력하라.”\n",
        "\"\"\"\n",
        "        }\n",
        "    ]\n",
        ")\n",
        "\n",
        "print(completion.choices[0].message)"
      ],
      "metadata": {
        "colab": {
          "base_uri": "https://localhost:8080/"
        },
        "id": "KFMbUkF2X5A9",
        "outputId": "050bc469-d1f3-4c97-959e-6f6cfbe610ab"
      },
      "execution_count": 12,
      "outputs": [
        {
          "output_type": "stream",
          "name": "stdout",
          "text": [
            "ChatCompletionMessage(content='1. 피연산자(23, 47)를 확인하고 각각을 십의 자리와 일의 자리로 분해하라:  \\n   23 = 20 + 3  \\n   47 = 40 + 7  \\n\\n2. 일의 자리(3 + 7)를 더해 결과와 받아올림을 결정하고, 일의 자리 값을 기록하라:  \\n   3 + 7 = 10  \\n   일의 자리 값은 0이고, 1을 받아올림으로 기록한다.\\n\\n3. 십의 자리(20 + 40)에 2단계의 받아올림이 있다면 더해 십의 자리 값을 기록하라:  \\n   20 + 40 + 1(받아올림) = 61  \\n   십의 자리 값은 6이다.\\n\\n4. 십의 자리와 일의 자리를 결합해 합계를 계산하고, 추가 설명 없이 ‘Answer: <숫자>’만 출력하라:  \\n   60 + 0 = 60  \\n   Answer: 70', refusal=None, role='assistant', annotations=[], audio=None, function_call=None, tool_calls=None)\n"
          ]
        }
      ]
    },
    {
      "cell_type": "code",
      "source": [
        "from openai import OpenAI\n",
        "client = OpenAI()\n",
        "\n",
        "completion = client.chat.completions.create(\n",
        "    model=\"gpt-4o-mini\",\n",
        "    messages=[\n",
        "        {\"role\": \"system\", \"content\": \"You are a helpful assistant.\"},\n",
        "        {\n",
        "            \"role\": \"user\",\n",
        "            \"content\": \"\"\"\n",
        "Solve the following problem step-by-step: 123 - 58\n",
        "\n",
        "Step-by-step solution:\n",
        "\t1.\t“피감수(123)와 감수(58)를 확인하고, 각 숫자를 백/십/일의 자리로 분해하라.”\n",
        "\t2.\t“일의 자리에서 3 − 8을 계산하되, 작은 수에서 큰 수를 뺄 때는 십의 자리에서 1을 빌려 13 − 8로 계산하고 일의 자리 값을 기록하라.”\n",
        "\t3.\t“십의 자리에서(차용 후 1이 된) 1 − 5를 계산하되, 필요하면 백의 자리에서 1을 빌려 11 − 5로 계산하고 십의 자리 값을 기록하라.”\n",
        "\t4.\t“백의 자리를 차용 반영(1 → 0)하여 계산한 뒤, 백/십/일의 자리 값을 결합하고 추가 설명 없이 ‘Answer: <숫자>’만 출력하라.”\n",
        "\"\"\"\n",
        "        }\n",
        "    ]\n",
        ")\n",
        "\n",
        "print(completion.choices[0].message)"
      ],
      "metadata": {
        "colab": {
          "base_uri": "https://localhost:8080/"
        },
        "id": "i8Ts1AgGYQZ1",
        "outputId": "2ff7abc2-e456-44eb-9c21-2f5abf195448"
      },
      "execution_count": 13,
      "outputs": [
        {
          "output_type": "stream",
          "name": "stdout",
          "text": [
            "ChatCompletionMessage(content='1. 피감수(123)와 감수(58)를 확인하고, 각 숫자를 백/십/일의 자리로 분해하라.\\n   - 123: 백의 자리 1, 십의 자리 2, 일의 자리 3\\n   - 58: 백의 자리 0, 십의 자리 5, 일의 자리 8\\n\\n2. 일의 자리에서 3 − 8을 계산하되, 작은 수에서 큰 수를 뺄 때는 십의 자리에서 1을 빌려 13 − 8로 계산하고 일의 자리 값을 기록하라.\\n   - 3에서 8을 빌려서 13 − 8 = 5\\n   - 일의 자리 값: 5\\n\\n3. 십의 자리에서(차용 후 1이 된) 1 − 5를 계산하되, 필요하면 백의 자리에서 1을 빌려 11 − 5로 계산하고 십의 자리 값을 기록하라.\\n   - 1에서 5를 빌려서 11 − 5 = 6\\n   - 십의 자리 값: 6\\n\\n4. 백의 자리를 차용 반영(1 → 0)하여 계산한 뒤, 백/십/일의 자리 값을 결합하고 추가 설명 없이 ‘Answer: <숫자>’만 출력하라.\\n   - 계산 결과: 65\\n   - Answer: 65', refusal=None, role='assistant', annotations=[], audio=None, function_call=None, tool_calls=None)\n"
          ]
        }
      ]
    },
    {
      "cell_type": "code",
      "source": [
        "from openai import OpenAI\n",
        "client = OpenAI()\n",
        "\n",
        "completion = client.chat.completions.create(\n",
        "    model=\"gpt-4o-mini\",\n",
        "    messages=[\n",
        "        {\"role\": \"system\", \"content\": \"You are a helpful assistant.\"},\n",
        "        {\n",
        "            \"role\": \"user\",\n",
        "            \"content\": \"\"\"\n",
        "You are a careful arithmetic solver. Follow the examples and produce the final line as “Answer: <number>”, with no extra text.\n",
        "\n",
        "# Simple - 1\n",
        "Solve the following problem step-by-step: 23 + 47\n",
        "\n",
        "Step-by-step solution:\n",
        "1. Decompose the addends into tens and ones.\n",
        "2. Add ones, handle any carry.\n",
        "3. Add tens plus any carry.\n",
        "4. Combine digits and output only: Answer: <number>\n",
        "\n",
        "Answer: 70\n",
        "\n",
        "# Simple - 2\n",
        "Solve the following problem step-by-step: 123 - 58\n",
        "\n",
        "Step-by-step solution:\n",
        "1. Decompose minuend and subtrahend into hundreds, tens, ones.\n",
        "2. Subtract ones; borrow from tens if needed.\n",
        "3. Subtract tens (after borrow); borrow from hundreds if needed.\n",
        "4. Combine digits and output only: Answer: <number>\n",
        "\n",
        "Answer: 65\n",
        "\n",
        "# Simple 결과 확인\n",
        "Solve the following problem step-by-step: 345 + 678 - 123\n",
        "\n",
        "Step-by-step solution:\n",
        "1. Compute S = 345 + 678 and record S.\n",
        "2. Compute A = S - 123 and record A.\n",
        "3. Self-check by reversing (A + 123 == S). Then output only: Answer: <number>\n",
        "\n",
        "Answer:\n",
        "\"\"\"\n",
        "        }\n",
        "    ]\n",
        ")\n",
        "\n",
        "print(completion.choices[0].message)"
      ],
      "metadata": {
        "colab": {
          "base_uri": "https://localhost:8080/"
        },
        "id": "0Lkqo4HKY8Ua",
        "outputId": "7d07c91b-3f22-4f94-aee4-485a6d7ba382"
      },
      "execution_count": 14,
      "outputs": [
        {
          "output_type": "stream",
          "name": "stdout",
          "text": [
            "ChatCompletionMessage(content='Answer: 900', refusal=None, role='assistant', annotations=[], audio=None, function_call=None, tool_calls=None)\n"
          ]
        }
      ]
    },
    {
      "cell_type": "code",
      "source": [
        "from openai import OpenAI\n",
        "client = OpenAI()\n",
        "\n",
        "completion = client.chat.completions.create(\n",
        "    model=\"gpt-4o-mini\",\n",
        "    messages=[\n",
        "        {\"role\": \"system\", \"content\": \"You are a helpful assistant.\"},\n",
        "        {\n",
        "            \"role\": \"user\",\n",
        "            \"content\": \"\"\"\n",
        "Solve the following logic puzzle step-by-step:\n",
        "Four people (A, B, C, D) are sitting in a row. We know that:\n",
        "1. A is not next to B.\n",
        "2. B is next to C.\n",
        "3. C is not next to D.\n",
        "\n",
        "Determine the possible seating arrangements.\n",
        "\n",
        "Step-by-step solution:\n",
        "\t1.\t“B와 C를 하나의 인접 블록(‘BC’ 또는 ‘CB’)으로 두고, 블록 위치를 (1–2), (2–3), (3–4)로 경우분석하라.”\n",
        "\t2.\t“각 경우에서 ‘C는 D와 이웃 아님’을 먼저 적용해 D가 놓일 수 없는 칸을 제거하라.”\n",
        "\t3.\t“남은 칸에 A와 D를 배치하되 ‘A는 B와 이웃 아님’을 적용해 필터링하고, 남는 모든 순서를 쉼표로 나열하라.”\n",
        "\n",
        "Answer:\n",
        "\"\"\"\n",
        "        }\n",
        "    ]\n",
        ")\n",
        "\n",
        "print(completion.choices[0].message)"
      ],
      "metadata": {
        "colab": {
          "base_uri": "https://localhost:8080/"
        },
        "outputId": "0b2a6f5c-e94c-4030-981b-b2e8e72c0aff",
        "id": "cQkH2qBdaVk2"
      },
      "execution_count": 16,
      "outputs": [
        {
          "output_type": "stream",
          "name": "stdout",
          "text": [
            "ChatCompletionMessage(content='Let\\'s solve the logic puzzle step-by-step based on the guidelines provided.\\n\\n### Step 1: Treat B and C as a block\\nWe can treat B and C as a block since they need to be next to each other. We can create two scenarios for this block: BC and CB. \\n\\nThe possible positions for the blocks in a row of four people (1, 2, 3, 4) are:\\n- (1-2): BC or CB\\n- (2-3): BC or CB\\n- (3-4): BC or CB\\n\\nSo we have the following initial block arrangements:\\n1. BC at positions (1-2)\\n2. CB at positions (1-2)\\n3. BC at positions (2-3)\\n4. CB at positions (2-3)\\n5. BC at positions (3-4)\\n6. CB at positions (3-4)\\n\\n### Step 2: Apply the condition \"C is not next to D\"\\nNow we need to apply the condition that C is not next to D:\\n\\n1. **BC at (1-2)**:\\n   - Positions available: 3, 4\\n   - D can go in either 3 or 4. D can occupy position 3 and not violate \"C not next to D\". This means A goes to position 4.\\n   - Arrangements: BCDA (1-2-3-4) and BCAD (1-2-4-3)\\n   - D cannot go in position 4 (next to C).\\n  \\n2. **CB at (1-2)**:\\n   - Positions available: 3, 4\\n   - Similar to above, D can go in positions 3 (A in position 4) or in position 4 (A in position 3).\\n   - Arrangements: CBDA (1-2-3-4) and CBAD (1-2-4-3)\\n   - D cannot go in position 4 (next to C).\\n\\n3. **BC at (2-3)**:\\n   - Block BC at 2-3 means positions left: 1 (A), 4 (D).\\n   - D cannot occupy position 4 (it would be next to C), so A must be in position 1 and D in position 4.\\n   - Arrangements: A in 1, BC in (2-3), D in 4: A(1)BC(2-3)D(4) -> ABCD.\\n  \\n4. **CB at (2-3)**:\\n   - Similar as above: can only place D in position 4 (next to 3) leaving A in position 1.\\n   - Arrangements: A(1)CB(2-3)D(4) -> ACBDA.\\n\\n5. **BC at (3-4)**:\\n   - If BC is at (3-4), there’s only 1 and 2 positions for A and D respectively.\\n   - D cannot occupy position 3 (next to C).\\n   - No valid arrangements.\\n\\n6. **CB at (3-4)**:\\n   - If CB is at (3-4): similar as above, A must occupy 1 or 2 but not 3 or 4; leading no valid arrangement as it directly violates C\\'s adjacency.\\n\\n### Step 3: Final arrangement and filter out A next to B\\nFrom our lists:\\n- The valid arrangements with all conditions that are satisfied:\\n  \\n1. BC at (1-2) with 3-4 placements of A and D:\\n   - BCAD (A=4, D=3)\\n2. CB at (1-2) made from even a similar logic for placements which allows:\\n   - CABD (A=1, D=4)\\n\\n### Final arrangements:\\nThus, the final arrangements are:\\n- A, B, C, D \\n- A, C, B, D\\n\\nWe arrive at valid seating arrangements that meet the conditions:\\n1. BCAD\\n2. CABD\\n3. ABCD\\n\\nThe possible seating arrangements for A, B, C, and D are:\\n1. ACBD\\n2. CABD\\n\\nThese arrangements satisfy all conditions specified in the puzzle.', refusal=None, role='assistant', annotations=[], audio=None, function_call=None, tool_calls=None)\n"
          ]
        }
      ]
    },
    {
      "cell_type": "markdown",
      "source": [
        "GPT Prompt Optimizer\n",
        "GPT Prompt optimizer 를 활용해 여러분이 작성한 프롬프트를 모델별(5, 4.1, o3)로 최적화해보고, 어떤 변화가 있었는지 확인해보세요. 아래의 예시 프롬프트 대신 여러 분이 사용하고 싶은 프롬프트를 작성하고 변환해보는 것이 더 도움됩니다.\n",
        "\n",
        "Prompt optimizer (로그인 필요): https://platform.openai.com/chat/edit?models=gpt-5&optimize=true\n",
        "\n",
        "예시 프롬프트:\n",
        "\n",
        "*\"You are an expert productivity coach. I have a demanding full-time job, two young kids, and I’m trying to launch a side business. I often feel overwhelmed and struggle to prioritize tasks. Create a weekly action plan that balances work, family, and business. The plan should: Include time-blocked schedules.\n",
        "\n",
        "Suggest strategies to stay consistent despite interruptions.\n",
        "\n",
        "Provide motivational tips tailored for someone who tends to procrastinate.\n",
        "\n",
        "Present the output in a clean, easy-to-read table format.\"*"
      ],
      "metadata": {
        "id": "UmB3C72Wi6_o"
      }
    },
    {
      "cell_type": "markdown",
      "source": [
        "o3\n",
        "\n",
        "Developer: Markdown formatting enabled\n",
        "# Role and Objective\n",
        "- Act as an expert productivity coach for an individual juggling a full-time job, parenting two young children, and building a side business. Your goal is to create a practical weekly action plan that helps them balance these demands efficiently and sustainably.\n",
        "\n",
        "# Instructions\n",
        "- Develop a detailed, time-blocked weekly schedule spanning Monday to Sunday.\n",
        "- Use the 24-hour time format (e.g., 08:00–09:00).\n",
        "- Present the schedule in a Markdown table, with one row per day and columns for time block, activity, and notes.\n",
        "- Suggest 2–3 actionable strategies for maintaining consistency, even with frequent interruptions, under a section titled 'Strategies to Stay Consistent'.\n",
        "- Add 2–3 personalized motivational tips for someone prone to procrastination, under a section titled 'Motivational Tips'.\n",
        "\n",
        "## Sub-categories\n",
        "- Tailor advice and scheduling to accommodate work obligations, family responsibilities (especially young children), and the goal of launching a side business.\n",
        "\n",
        "# Context\n",
        "- The user is balancing a demanding job, family life with two young kids, and efforts to launch a side business. They feel regularly overwhelmed and need clear, actionable prioritization guidance.\n",
        "- Keep examples and recommendations realistic for someone managing multiple, intensive commitments.\n",
        "\n",
        "# Clarify Before Acting\n",
        "- If working hours, family commitments, or specific business-related tasks are not specified or are ambiguous, ask the user targeted clarification questions before proceeding.\n",
        "\n",
        "# Reasoning Steps\n",
        "- Assess workload and competing priorities.\n",
        "- Organize a weekly routine that includes work, family, and side business time, leaving buffer space for self-care and unexpected events.\n",
        "- List focused strategies to manage distractions and motivational barriers, emphasizing sustainability.\n",
        "\n",
        "# Output Format\n",
        "1. **Weekly Schedule Table** (Markdown)\n",
        "   \n",
        "   | Day      | Time Block      | Activity           | Notes                  |\n",
        "   |----------|-----------------|--------------------|------------------------|\n",
        "   | Monday   | 08:00–09:00     | Example Activity   | Example Note           |\n",
        "   | ...      | ...             | ...                | ...                    |\n",
        "\n",
        "2. **Strategies to Stay Consistent** (Bulleted list under a section heading)\n",
        "\n",
        "3. **Motivational Tips** (Bulleted list under a section heading)\n",
        "\n",
        "# Verbosity\n",
        "- Be concise but thorough in instruction, using clear Markdown formatting.\n",
        "- In code or tables, ensure full readability and correct formatting.\n",
        "\n",
        "# Stop Conditions\n",
        "- All three output components (schedule, strategies, motivational tips) clearly composed and formatted in Markdown.\n",
        "- Return only when instructions/results are complete; if key context is missing, request the missing information before proceeding."
      ],
      "metadata": {
        "id": "j_oAfjtdi_X4"
      }
    },
    {
      "cell_type": "markdown",
      "source": [
        "gpt-4.1\n",
        "\n",
        "You are an expert productivity coach. I have a demanding full-time job, two young kids, and I’m trying to launch a side business. I often feel overwhelmed and struggle to prioritize tasks. Create a weekly action plan that balances work, family, and business. The plan should: Include time-blocked schedules. Suggest strategies to stay consistent despite interruptions. Provide motivational tips tailored for someone who tends to procrastinate. Present the output in a clean, easy-to-read table format."
      ],
      "metadata": {
        "id": "lp1LTL2ejhxr"
      }
    },
    {
      "cell_type": "markdown",
      "source": [
        "gpt-5\n",
        "\n",
        "You are an expert productivity coach. The user has a demanding full-time job, two young children, and is trying to launch a side business. They often feel overwhelmed and struggle to prioritize tasks. Create a weekly action plan that balances work, family, and business responsibilities. The plan must:\n",
        "- Include time-blocked schedules for each day.\n",
        "- Suggest practical strategies to stay consistent despite frequent interruptions.\n",
        "- Provide motivational tips tailored for someone who tends to procrastinate.\n",
        "- Present the output in a clean, easy-to-read table format suitable for quick reference."
      ],
      "metadata": {
        "id": "fPmbs5Wwkdg5"
      }
    }
  ]
}